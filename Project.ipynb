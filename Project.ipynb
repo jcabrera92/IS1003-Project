{
 "cells": [
  {
   "cell_type": "code",
   "execution_count": 1,
   "id": "6d798c7e",
   "metadata": {},
   "outputs": [],
   "source": [
    "import pandas as pd\n",
    "import matplotlib.pyplot as plt\n",
    "\n",
    "df= pd.read_csv('data/bank_transactions_data_2.csv')"
   ]
  },
  {
   "cell_type": "markdown",
   "id": "e7d7b826",
   "metadata": {},
   "source": [
    "### Returns the average amount taken from the bank's customers"
   ]
  },
  {
   "cell_type": "code",
   "execution_count": 9,
   "id": "be888c51",
   "metadata": {},
   "outputs": [
    {
     "name": "stdout",
     "output_type": "stream",
     "text": [
      "The average amount taken from the customers is $297.59\n"
     ]
    }
   ],
   "source": [
    "#Code Here Samara\n",
    "avg_amount=df['TransactionAmount']\n",
    "print(f'The average amount taken from the customers is ${avg_amount.mean():.2f}')"
   ]
  },
  {
   "cell_type": "code",
   "execution_count": 11,
   "id": "3901cb83",
   "metadata": {},
   "outputs": [
    {
     "data": {
      "text/html": [
       "<div>\n",
       "<style scoped>\n",
       "    .dataframe tbody tr th:only-of-type {\n",
       "        vertical-align: middle;\n",
       "    }\n",
       "\n",
       "    .dataframe tbody tr th {\n",
       "        vertical-align: top;\n",
       "    }\n",
       "\n",
       "    .dataframe thead th {\n",
       "        text-align: right;\n",
       "    }\n",
       "</style>\n",
       "<table border=\"1\" class=\"dataframe\">\n",
       "  <thead>\n",
       "    <tr style=\"text-align: right;\">\n",
       "      <th></th>\n",
       "      <th>TransactionID</th>\n",
       "      <th>AccountID</th>\n",
       "      <th>TransactionAmount</th>\n",
       "      <th>TransactionDate</th>\n",
       "      <th>TransactionType</th>\n",
       "      <th>Location</th>\n",
       "      <th>DeviceID</th>\n",
       "      <th>IP Address</th>\n",
       "      <th>MerchantID</th>\n",
       "      <th>Channel</th>\n",
       "      <th>CustomerAge</th>\n",
       "      <th>CustomerOccupation</th>\n",
       "      <th>TransactionDuration</th>\n",
       "      <th>LoginAttempts</th>\n",
       "      <th>AccountBalance</th>\n",
       "      <th>PreviousTransactionDate</th>\n",
       "    </tr>\n",
       "  </thead>\n",
       "  <tbody>\n",
       "    <tr>\n",
       "      <th>0</th>\n",
       "      <td>TX000001</td>\n",
       "      <td>AC00128</td>\n",
       "      <td>14.09</td>\n",
       "      <td>2023-04-11 16:29:14</td>\n",
       "      <td>Debit</td>\n",
       "      <td>San Diego</td>\n",
       "      <td>D000380</td>\n",
       "      <td>162.198.218.92</td>\n",
       "      <td>M015</td>\n",
       "      <td>ATM</td>\n",
       "      <td>70</td>\n",
       "      <td>Doctor</td>\n",
       "      <td>81</td>\n",
       "      <td>1</td>\n",
       "      <td>5112.21</td>\n",
       "      <td>2024-11-04 08:08:08</td>\n",
       "    </tr>\n",
       "    <tr>\n",
       "      <th>1</th>\n",
       "      <td>TX000002</td>\n",
       "      <td>AC00455</td>\n",
       "      <td>376.24</td>\n",
       "      <td>2023-06-27 16:44:19</td>\n",
       "      <td>Debit</td>\n",
       "      <td>Houston</td>\n",
       "      <td>D000051</td>\n",
       "      <td>13.149.61.4</td>\n",
       "      <td>M052</td>\n",
       "      <td>ATM</td>\n",
       "      <td>68</td>\n",
       "      <td>Doctor</td>\n",
       "      <td>141</td>\n",
       "      <td>1</td>\n",
       "      <td>13758.91</td>\n",
       "      <td>2024-11-04 08:09:35</td>\n",
       "    </tr>\n",
       "    <tr>\n",
       "      <th>2</th>\n",
       "      <td>TX000003</td>\n",
       "      <td>AC00019</td>\n",
       "      <td>126.29</td>\n",
       "      <td>2023-07-10 18:16:08</td>\n",
       "      <td>Debit</td>\n",
       "      <td>Mesa</td>\n",
       "      <td>D000235</td>\n",
       "      <td>215.97.143.157</td>\n",
       "      <td>M009</td>\n",
       "      <td>Online</td>\n",
       "      <td>19</td>\n",
       "      <td>Student</td>\n",
       "      <td>56</td>\n",
       "      <td>1</td>\n",
       "      <td>1122.35</td>\n",
       "      <td>2024-11-04 08:07:04</td>\n",
       "    </tr>\n",
       "    <tr>\n",
       "      <th>3</th>\n",
       "      <td>TX000004</td>\n",
       "      <td>AC00070</td>\n",
       "      <td>184.50</td>\n",
       "      <td>2023-05-05 16:32:11</td>\n",
       "      <td>Debit</td>\n",
       "      <td>Raleigh</td>\n",
       "      <td>D000187</td>\n",
       "      <td>200.13.225.150</td>\n",
       "      <td>M002</td>\n",
       "      <td>Online</td>\n",
       "      <td>26</td>\n",
       "      <td>Student</td>\n",
       "      <td>25</td>\n",
       "      <td>1</td>\n",
       "      <td>8569.06</td>\n",
       "      <td>2024-11-04 08:09:06</td>\n",
       "    </tr>\n",
       "    <tr>\n",
       "      <th>4</th>\n",
       "      <td>TX000005</td>\n",
       "      <td>AC00411</td>\n",
       "      <td>13.45</td>\n",
       "      <td>2023-10-16 17:51:24</td>\n",
       "      <td>Credit</td>\n",
       "      <td>Atlanta</td>\n",
       "      <td>D000308</td>\n",
       "      <td>65.164.3.100</td>\n",
       "      <td>M091</td>\n",
       "      <td>Online</td>\n",
       "      <td>26</td>\n",
       "      <td>Student</td>\n",
       "      <td>198</td>\n",
       "      <td>1</td>\n",
       "      <td>7429.40</td>\n",
       "      <td>2024-11-04 08:06:39</td>\n",
       "    </tr>\n",
       "  </tbody>\n",
       "</table>\n",
       "</div>"
      ],
      "text/plain": [
       "  TransactionID AccountID  TransactionAmount      TransactionDate  \\\n",
       "0      TX000001   AC00128              14.09  2023-04-11 16:29:14   \n",
       "1      TX000002   AC00455             376.24  2023-06-27 16:44:19   \n",
       "2      TX000003   AC00019             126.29  2023-07-10 18:16:08   \n",
       "3      TX000004   AC00070             184.50  2023-05-05 16:32:11   \n",
       "4      TX000005   AC00411              13.45  2023-10-16 17:51:24   \n",
       "\n",
       "  TransactionType   Location DeviceID      IP Address MerchantID Channel  \\\n",
       "0           Debit  San Diego  D000380  162.198.218.92       M015     ATM   \n",
       "1           Debit    Houston  D000051     13.149.61.4       M052     ATM   \n",
       "2           Debit       Mesa  D000235  215.97.143.157       M009  Online   \n",
       "3           Debit    Raleigh  D000187  200.13.225.150       M002  Online   \n",
       "4          Credit    Atlanta  D000308    65.164.3.100       M091  Online   \n",
       "\n",
       "   CustomerAge CustomerOccupation  TransactionDuration  LoginAttempts  \\\n",
       "0           70             Doctor                   81              1   \n",
       "1           68             Doctor                  141              1   \n",
       "2           19            Student                   56              1   \n",
       "3           26            Student                   25              1   \n",
       "4           26            Student                  198              1   \n",
       "\n",
       "   AccountBalance PreviousTransactionDate  \n",
       "0         5112.21     2024-11-04 08:08:08  \n",
       "1        13758.91     2024-11-04 08:09:35  \n",
       "2         1122.35     2024-11-04 08:07:04  \n",
       "3         8569.06     2024-11-04 08:09:06  \n",
       "4         7429.40     2024-11-04 08:06:39  "
      ]
     },
     "execution_count": 11,
     "metadata": {},
     "output_type": "execute_result"
    }
   ],
   "source": [
    "df.head()"
   ]
  },
  {
   "cell_type": "markdown",
   "id": "e3210568",
   "metadata": {},
   "source": [
    "### Returns the average amount for the transactions for each credit and debit"
   ]
  },
  {
   "cell_type": "code",
   "execution_count": 16,
   "id": "7467d0ad",
   "metadata": {},
   "outputs": [
    {
     "name": "stdout",
     "output_type": "stream",
     "text": [
      "The average amount for each credit and debit:\n",
      "TransactionType\n",
      "Credit    306.501004\n",
      "Debit     294.991255\n",
      "Name: TransactionAmount, dtype: float64\n",
      "\n",
      "TransactionType\n",
      "Debit     1944\n",
      "Credit     568\n",
      "Name: count, dtype: int64\n"
     ]
    }
   ],
   "source": [
    "#code here Samara \n",
    "average_amounts = df.groupby('TransactionType')['TransactionAmount'].mean()\n",
    "print(\"The average amount for each credit and debit:\")\n",
    "print(average_amounts)\n",
    "print()\n",
    "print(df['TransactionType'].value_counts())"
   ]
  },
  {
   "cell_type": "markdown",
   "id": "02be1aba",
   "metadata": {},
   "source": [
    "### United States cities which were most and least effected"
   ]
  },
  {
   "cell_type": "code",
   "execution_count": 24,
   "id": "c95b271f",
   "metadata": {},
   "outputs": [
    {
     "name": "stdout",
     "output_type": "stream",
     "text": [
      "Top 5 cities most effected\n",
      "Location\n",
      "Fort Worth       70\n",
      "Los Angeles      69\n",
      "Oklahoma City    68\n",
      "Charlotte        68\n",
      "Tucson           67\n",
      "Name: count, dtype: int64\n",
      "\n",
      "Least 5 cities effected\n",
      "Location\n",
      "Dallas         49\n",
      "Washington     48\n",
      "El Paso        46\n",
      "Portland       42\n",
      "Albuquerque    41\n",
      "Name: count, dtype: int64\n"
     ]
    }
   ],
   "source": [
    "#code here Samara\n",
    "cities_effected=df['Location'].value_counts()\n",
    "print('Top 5 cities most effected')\n",
    "print(cities_effected.head())\n",
    "print()\n",
    "print('Least 5 cities effected')\n",
    "print(cities_effected.tail())"
   ]
  },
  {
   "cell_type": "code",
   "execution_count": null,
   "id": "7022eed8",
   "metadata": {},
   "outputs": [],
   "source": []
  },
  {
   "cell_type": "markdown",
   "id": "701c2f5f",
   "metadata": {},
   "source": [
    "###  How many of these transactions changed locations after a withdrawal"
   ]
  },
  {
   "cell_type": "code",
   "execution_count": null,
   "id": "d1270dc2",
   "metadata": {},
   "outputs": [],
   "source": [
    "#code here\n"
   ]
  },
  {
   "cell_type": "markdown",
   "id": "9f73c46c",
   "metadata": {},
   "source": [
    "### Returns  the average account balance ,before any fraudelent transaction was made"
   ]
  },
  {
   "cell_type": "code",
   "execution_count": null,
   "id": "9ac01a02",
   "metadata": {},
   "outputs": [],
   "source": [
    "#code here"
   ]
  },
  {
   "cell_type": "markdown",
   "id": "4ceb61e0",
   "metadata": {},
   "source": [
    "### Occupation trends?"
   ]
  },
  {
   "cell_type": "code",
   "execution_count": null,
   "id": "494dc307",
   "metadata": {},
   "outputs": [],
   "source": [
    "#code here"
   ]
  },
  {
   "cell_type": "markdown",
   "id": "ae090f82",
   "metadata": {},
   "source": [
    "### What was the oldest, youngest, and average age of the Victims"
   ]
  },
  {
   "cell_type": "code",
   "execution_count": null,
   "id": "b7036b48",
   "metadata": {},
   "outputs": [],
   "source": [
    "#code here "
   ]
  },
  {
   "cell_type": "markdown",
   "id": "b499a4af",
   "metadata": {},
   "source": [
    "###  What were the more transactions taken from the ATM, online, or branch"
   ]
  },
  {
   "cell_type": "code",
   "execution_count": 29,
   "id": "2ed23578",
   "metadata": {},
   "outputs": [
    {
     "name": "stdout",
     "output_type": "stream",
     "text": [
      "Channel\n",
      "Branch    868\n",
      "ATM       833\n",
      "Online    811\n",
      "Name: count, dtype: int64\n"
     ]
    }
   ],
   "source": [
    "#code here Samara\n",
    "channel_type=df['Channel'].value_counts()\n",
    "print(channel_type)"
   ]
  },
  {
   "cell_type": "markdown",
   "id": "cee4de70",
   "metadata": {},
   "source": [
    "### What was the average for each ATM, online, and branch transaction"
   ]
  },
  {
   "cell_type": "code",
   "execution_count": 35,
   "id": "e9c77590",
   "metadata": {},
   "outputs": [
    {
     "name": "stdout",
     "output_type": "stream",
     "text": [
      "Channel\n",
      "ATM       307.72\n",
      "Branch    288.23\n",
      "Online    297.21\n",
      "Name: TransactionAmount, dtype: float64\n"
     ]
    }
   ],
   "source": [
    "#code here Samara\n",
    "Channel_avg= df.groupby('Channel')['TransactionAmount'].mean()\n",
    "print(Channel_avg.round(2))"
   ]
  },
  {
   "cell_type": "markdown",
   "id": "202f5422",
   "metadata": {},
   "source": [
    "### What was the average time in which these transactions lasted"
   ]
  },
  {
   "cell_type": "code",
   "execution_count": null,
   "id": "a3f55de3",
   "metadata": {},
   "outputs": [],
   "source": [
    "#code here"
   ]
  },
  {
   "cell_type": "markdown",
   "id": "4204f27c",
   "metadata": {},
   "source": [
    "### What was the average number of login attempts made before the transaction"
   ]
  },
  {
   "cell_type": "code",
   "execution_count": null,
   "id": "4a953ec3",
   "metadata": {},
   "outputs": [],
   "source": [
    "#code here"
   ]
  }
 ],
 "metadata": {
  "kernelspec": {
   "display_name": "Python 3",
   "language": "python",
   "name": "python3"
  },
  "language_info": {
   "codemirror_mode": {
    "name": "ipython",
    "version": 3
   },
   "file_extension": ".py",
   "mimetype": "text/x-python",
   "name": "python",
   "nbconvert_exporter": "python",
   "pygments_lexer": "ipython3",
   "version": "3.13.1"
  }
 },
 "nbformat": 4,
 "nbformat_minor": 5
}

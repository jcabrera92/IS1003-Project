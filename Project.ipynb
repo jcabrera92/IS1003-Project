{
 "cells": [
  {
   "cell_type": "code",
   "execution_count": 3,
   "id": "6d798c7e",
   "metadata": {},
   "outputs": [],
   "source": [
    "import pandas as pd\n",
    "import matplotlib.pyplot as plt\n",
    "\n",
    "df= pd.read_csv('data/bank_transactions_data_2.csv')"
   ]
  },
  {
   "cell_type": "markdown",
   "id": "e7d7b826",
   "metadata": {},
   "source": [
    "### Returns the average amount taken from the bank's customers"
   ]
  },
  {
   "cell_type": "code",
   "execution_count": 4,
   "id": "be888c51",
   "metadata": {},
   "outputs": [
    {
     "name": "stdout",
     "output_type": "stream",
     "text": [
      "The average amount taken from customers is $297.59\n"
     ]
    }
   ],
   "source": [
    "#Code Here \n",
    "avg_amount=df['TransactionAmount']\n",
    "print(f'The average amount taken from customers is ${avg_amount.mean():.2f}')"
   ]
  },
  {
   "cell_type": "markdown",
   "id": "e3210568",
   "metadata": {},
   "source": [
    "### Returns the average amount for the transactions for each credit and debit"
   ]
  },
  {
   "cell_type": "code",
   "execution_count": null,
   "id": "b0d31ac4",
   "metadata": {},
   "outputs": [],
   "source": []
  },
  {
   "cell_type": "code",
   "execution_count": 21,
   "id": "7467d0ad",
   "metadata": {},
   "outputs": [
    {
     "name": "stdout",
     "output_type": "stream",
     "text": [
      "The average amount for each credit and debit:\n",
      "TransactionType\n",
      "Credit    306.501004\n",
      "Debit     294.991255\n",
      "Name: TransactionAmount, dtype: float64\n",
      "\n",
      "TransactionType\n",
      "Debit     1944\n",
      "Credit     568\n",
      "Name: count, dtype: int64\n"
     ]
    },
    {
     "data": {
      "image/png": "[encoded data removed]",
      "text/plain": [
       "<Figure size 500x200 with 2 Axes>"
      ]
     },
     "metadata": {},
     "output_type": "display_data"
    }
   ],
   "source": [
    "#code here \n",
    "import matplotlib.pyplot as plt\n",
    "average_amounts = df.groupby('TransactionType')['TransactionAmount'].mean()\n",
    "transaction_count=df['TransactionType'].value_counts()\n",
    "fig,axs= plt.subplots(1,2,figsize=(5,2))\n",
    "axs[0].bar(average_amounts.index,average_amounts.values,color=['pink','red'])\n",
    "axs[0].set_title('Average Amount for Transaction')\n",
    "axs[0].set_ylabel('Amount')\n",
    "axs[0].set_xlabel('Transaction Type')\n",
    "axs[1].bar(transaction_count.index,transaction_count.values,color=['blue','purple'])\n",
    "axs[1].set_title('Transaction Type Count')\n",
    "axs[1].set_ylabel('Count')\n",
    "axs[1].set_xlabel('Transaction Type')\n",
    "print(\"The average amount for each credit and debit:\")\n",
    "print(average_amounts)\n",
    "print()\n",
    "print(df['TransactionType'].value_counts())\n",
    "plt.tight_layout()\n",
    "plt.show()"
   ]
  },
  {
   "cell_type": "markdown",
   "id": "02be1aba",
   "metadata": {},
   "source": [
    "### United States cities which were most and least effected"
   ]
  },
  {
   "cell_type": "code",
   "execution_count": null,
   "id": "c95b271f",
   "metadata": {},
   "outputs": [
    {
     "name": "stdout",
     "output_type": "stream",
     "text": [
      "Top 5 cities most effected\n",
      "Location\n",
      "Fort Worth       70\n",
      "Los Angeles      69\n",
      "Oklahoma City    68\n",
      "Charlotte        68\n",
      "Tucson           67\n",
      "Name: count, dtype: int64\n",
      "\n",
      "Least 5 cities effected\n",
      "Location\n",
      "Dallas         49\n",
      "Washington     48\n",
      "El Paso        46\n",
      "Portland       42\n",
      "Albuquerque    41\n",
      "Name: count, dtype: int64\n"
     ]
    }
   ],
   "source": [
    "#code here \n",
    "cities_effected=df['Location'].value_counts()\n",
    "print('5 most effected cities')\n",
    "print(cities_effected.head())\n",
    "print()\n",
    "print('Least 5 cities effected')\n",
    "print(cities_effected.tail())"
   ]
  },
  {
   "cell_type": "markdown",
   "id": "9f73c46c",
   "metadata": {},
   "source": [
    "### Returns  the average account balance ,before any fraudelent transaction was made"
   ]
  },
  {
   "cell_type": "code",
   "execution_count": 29,
   "id": "9ac01a02",
   "metadata": {},
   "outputs": [
    {
     "name": "stdout",
     "output_type": "stream",
     "text": [
      "The average account balance before any fraudulent transaction was made is: $5411.90\n"
     ]
    }
   ],
   "source": [
    "#code here\n",
    "originalAmount = df['TransactionAmount'] + df['AccountBalance']\n",
    "originalAvg = originalAmount.mean()\n",
    "\n",
    "print(f\"The average account balance before any fraudulent transaction was made is: ${originalAvg:.2f}\")"
   ]
  },
  {
   "cell_type": "markdown",
   "id": "4ceb61e0",
   "metadata": {},
   "source": [
    "### Occupation trends?"
   ]
  },
  {
   "cell_type": "code",
   "execution_count": 18,
   "id": "494dc307",
   "metadata": {},
   "outputs": [
    {
     "name": "stdout",
     "output_type": "stream",
     "text": [
      "Occupations and their counts:\n",
      "CustomerOccupation\n",
      "Student     657\n",
      "Doctor      631\n",
      "Engineer    625\n",
      "Retired     599\n",
      "Name: count, dtype: int64\n",
      "\n",
      "Average amount lost per occupation :\n",
      "CustomerOccupation\n",
      "Student     313.22\n",
      "Retired     294.53\n",
      "Doctor      292.70\n",
      "Engineer    289.04\n",
      "Name: TransactionAmount, dtype: float64\n"
     ]
    }
   ],
   "source": [
    "#code here\n",
    "occupationCounts = df['CustomerOccupation'].value_counts()\n",
    "print(\"Occupations and their counts:\")\n",
    "print(occupationCounts)\n",
    "\n",
    "print()\n",
    "\n",
    "occupationLoss = df.groupby('CustomerOccupation')['TransactionAmount'].mean().sort_values(ascending=False)\n",
    "print(\"Average amount lost per occupation :\")\n",
    "print(occupationLoss.round(2))"
   ]
  },
  {
   "cell_type": "markdown",
   "id": "ae090f82",
   "metadata": {},
   "source": [
    "### What was the oldest, youngest, and average age of the Victims"
   ]
  },
  {
   "cell_type": "code",
   "execution_count": 25,
   "id": "b7036b48",
   "metadata": {},
   "outputs": [
    {
     "name": "stdout",
     "output_type": "stream",
     "text": [
      "The oldest victim is: 80\n",
      "The youngest victim: 18\n",
      "The average age of the victims is: 44.67\n",
      "\n",
      "The top and bottom 5 age groups with the highest average transaction amount:\n",
      "CustomerAge\n",
      "61    465.96\n",
      "60    422.39\n",
      "78    414.88\n",
      "29    404.45\n",
      "65    380.59\n",
      "Name: TransactionAmount, dtype: float64\n",
      "CustomerAge\n",
      "77    216.69\n",
      "76    197.20\n",
      "49    190.33\n",
      "71    186.89\n",
      "38    177.68\n",
      "Name: TransactionAmount, dtype: float64\n"
     ]
    }
   ],
   "source": [
    "#code here \n",
    "\n",
    "oldest_age = df['CustomerAge'].max()\n",
    "youngest_age = df['CustomerAge'].min()\n",
    "average_age = df['CustomerAge'].mean()\n",
    "\n",
    "print(f\"The oldest victim is: {oldest_age}\")\n",
    "print(f\"The youngest victim: {youngest_age}\")\n",
    "print(f\"The average age of the victims is: {average_age:.2f}\")\n",
    "\n",
    "print()\n",
    "print(\"The top and bottom 5 age groups with the highest average transaction amount:\")\n",
    "age_group = df.groupby('CustomerAge')['TransactionAmount'].mean().sort_values(ascending=False)\n",
    "print(age_group.head().round(2))\n",
    "print(age_group.tail().round(2))\n"
   ]
  },
  {
   "cell_type": "markdown",
   "id": "b499a4af",
   "metadata": {},
   "source": [
    "###  How many transactions were made from each the ATM, online, and branch from greatest to least"
   ]
  },
  {
   "cell_type": "code",
   "execution_count": 29,
   "id": "2ed23578",
   "metadata": {},
   "outputs": [
    {
     "name": "stdout",
     "output_type": "stream",
     "text": [
      "Channel\n",
      "Branch    868\n",
      "ATM       833\n",
      "Online    811\n",
      "Name: count, dtype: int64\n"
     ]
    }
   ],
   "source": [
    "#code here \n",
    "channel_type=df['Channel'].value_counts()\n",
    "print(channel_type)"
   ]
  },
  {
   "cell_type": "markdown",
   "id": "cee4de70",
   "metadata": {},
   "source": [
    "### What was the average for each channel: ATM, online, and branch"
   ]
  },
  {
   "cell_type": "code",
   "execution_count": null,
   "id": "e9c77590",
   "metadata": {},
   "outputs": [
    {
     "name": "stdout",
     "output_type": "stream",
     "text": [
      "Channel\n",
      "ATM       307.72\n",
      "Branch    288.23\n",
      "Online    297.21\n",
      "Name: TransactionAmount, dtype: float64\n"
     ]
    }
   ],
   "source": [
    "#code here \n",
    "\n",
    "channel_avg= df.groupby('Channel')['TransactionAmount'].mean()\n",
    "print(channel_avg.round(2))"
   ]
  },
  {
   "cell_type": "markdown",
   "id": "202f5422",
   "metadata": {},
   "source": [
    "### What was the average time in which these transactions lasted"
   ]
  },
  {
   "cell_type": "code",
   "execution_count": null,
   "id": "a3f55de3",
   "metadata": {},
   "outputs": [
    {
     "name": "stdout",
     "output_type": "stream",
     "text": [
      "The average transaction duration is: 119.64 seconds\n",
      "The longest transaction duration is: 300 seconds\n",
      "The shortest transaction duration is: 10 seconds\n"
     ]
    }
   ],
   "source": [
    "#code here\n",
    "avgDuration = df['TransactionDuration'].mean()\n",
    "longestDuration = df['TransactionDuration'].max()\n",
    "shortestDuration = df['TransactionDuration'].min()\n",
    "\n",
    "print(f\"The average transaction duration is: {avgDuration:.2f} seconds\")\n",
    "print(f\"The longest transaction duration is: {longestDuration} seconds\")\n",
    "print(f\"The shortest transaction duration is: {shortestDuration} seconds\")"
   ]
  },
  {
   "cell_type": "markdown",
   "id": "4204f27c",
   "metadata": {},
   "source": [
    "### What was the average number of login attempts made before the transaction"
   ]
  },
  {
   "cell_type": "code",
   "execution_count": null,
   "id": "4a953ec3",
   "metadata": {},
   "outputs": [
    {
     "name": "stdout",
     "output_type": "stream",
     "text": [
      "The average number of login attempts made before the transaction is: 1.12\n"
     ]
    }
   ],
   "source": [
    "#code here\n",
    "avgAttempts = df['LoginAttempts'].mean()\n",
    "print(f\"The average number of login attempts made before the transaction is: {avgAttempts:.2f}\")"
   ]
  }
 ],
 "metadata": {
  "kernelspec": {
   "display_name": "Python 3",
   "language": "python",
   "name": "python3"
  },
  "language_info": {
   "codemirror_mode": {
    "name": "ipython",
    "version": 3
   },
   "file_extension": ".py",
   "mimetype": "text/x-python",
   "name": "python",
   "nbconvert_exporter": "python",
   "pygments_lexer": "ipython3",
   "version": "3.13.1"
  }
 },
 "nbformat": 4,
 "nbformat_minor": 5
}

{
 "cells": [
  {
   "cell_type": "code",
   "execution_count": 2,
   "id": "6d798c7e",
   "metadata": {},
   "outputs": [],
   "source": [
    "import pandas as pd\n",
    "import matplotlib.pyplot as plt\n",
    "\n",
    "df= pd.read_csv('data/bank_transactions_data_2.csv')"
   ]
  },
  {
   "cell_type": "markdown",
   "id": "e7d7b826",
   "metadata": {},
   "source": [
    "### Returns the average amount taken from the bank's customers"
   ]
  },
  {
   "cell_type": "code",
   "execution_count": 4,
   "id": "be888c51",
   "metadata": {},
   "outputs": [],
   "source": [
    "#Code Here\n"
   ]
  },
  {
   "cell_type": "markdown",
   "id": "e3210568",
   "metadata": {},
   "source": [
    "### Returns the average amount for the transactions for each credit and debit"
   ]
  },
  {
   "cell_type": "code",
   "execution_count": null,
   "id": "7467d0ad",
   "metadata": {},
   "outputs": [],
   "source": [
    "#code here"
   ]
  },
  {
   "cell_type": "markdown",
   "id": "02be1aba",
   "metadata": {},
   "source": [
    "### United States cities which were most and least effected"
   ]
  },
  {
   "cell_type": "code",
   "execution_count": null,
   "id": "c95b271f",
   "metadata": {},
   "outputs": [],
   "source": [
    "#code here"
   ]
  },
  {
   "cell_type": "markdown",
   "id": "701c2f5f",
   "metadata": {},
   "source": [
    "###  How many of these transactions changed locations after a withdrawal"
   ]
  },
  {
   "cell_type": "code",
   "execution_count": null,
   "id": "d1270dc2",
   "metadata": {},
   "outputs": [],
   "source": [
    "#code here"
   ]
  },
  {
   "cell_type": "markdown",
   "id": "9f73c46c",
   "metadata": {},
   "source": [
    "### Returns  the average account balance ,before any fraudelent transaction was made"
   ]
  },
  {
   "cell_type": "code",
   "execution_count": null,
   "id": "9ac01a02",
   "metadata": {},
   "outputs": [],
   "source": [
    "#code here"
   ]
  },
  {
   "cell_type": "markdown",
   "id": "4ceb61e0",
   "metadata": {},
   "source": [
    "### Occupation trends?"
   ]
  },
  {
   "cell_type": "code",
   "execution_count": null,
   "id": "494dc307",
   "metadata": {},
   "outputs": [],
   "source": [
    "#code here"
   ]
  },
  {
   "cell_type": "markdown",
   "id": "ae090f82",
   "metadata": {},
   "source": [
    "### What was the oldest, youngest, and average age of the Victims"
   ]
  },
  {
   "cell_type": "code",
   "execution_count": null,
   "id": "b7036b48",
   "metadata": {},
   "outputs": [],
   "source": [
    "#code here"
   ]
  },
  {
   "cell_type": "markdown",
   "id": "b499a4af",
   "metadata": {},
   "source": [
    "###  What were the more transactions taken from the ATM, online, or branch"
   ]
  },
  {
   "cell_type": "code",
   "execution_count": null,
   "id": "2ed23578",
   "metadata": {},
   "outputs": [],
   "source": [
    "#code here"
   ]
  },
  {
   "cell_type": "markdown",
   "id": "cee4de70",
   "metadata": {},
   "source": [
    "### What was the average for each ATM, online, and branch transaction"
   ]
  },
  {
   "cell_type": "code",
   "execution_count": null,
   "id": "e9c77590",
   "metadata": {},
   "outputs": [],
   "source": [
    "#code here"
   ]
  },
  {
   "cell_type": "markdown",
   "id": "202f5422",
   "metadata": {},
   "source": [
    "### What was the average time in which these transactions lasted"
   ]
  },
  {
   "cell_type": "code",
   "execution_count": null,
   "id": "a3f55de3",
   "metadata": {},
   "outputs": [],
   "source": [
    "#code here"
   ]
  },
  {
   "cell_type": "markdown",
   "id": "4204f27c",
   "metadata": {},
   "source": [
    "### What was the average number of login attempts made before the transaction"
   ]
  },
  {
   "cell_type": "code",
   "execution_count": null,
   "id": "4a953ec3",
   "metadata": {},
   "outputs": [],
   "source": [
    "#code here"
   ]
  }
 ],
 "metadata": {
  "kernelspec": {
   "display_name": "Python 3",
   "language": "python",
   "name": "python3"
  },
  "language_info": {
   "codemirror_mode": {
    "name": "ipython",
    "version": 3
   },
   "file_extension": ".py",
   "mimetype": "text/x-python",
   "name": "python",
   "nbconvert_exporter": "python",
   "pygments_lexer": "ipython3",
   "version": "3.13.1"
  }
 },
 "nbformat": 4,
 "nbformat_minor": 5
}
